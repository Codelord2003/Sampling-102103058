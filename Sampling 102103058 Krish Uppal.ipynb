{
 "cells": [
  {
   "cell_type": "markdown",
   "id": "67643a66-9f78-44f2-bd97-276851a7ae2d",
   "metadata": {},
   "source": [
    "## 1) Import the Credit Card Dataset ##"
   ]
  },
  {
   "cell_type": "code",
   "execution_count": 100,
   "id": "8bbf7706-81d6-4bf2-a916-b83606b3de89",
   "metadata": {},
   "outputs": [],
   "source": [
    "import pandas as pd\n",
    "data=pd.read_csv('/Users/krishuppal/Desktop/Creditcard_data.csv')"
   ]
  },
  {
   "cell_type": "code",
   "execution_count": 101,
   "id": "43f348cd-8091-40f8-97db-762b36bd18e7",
   "metadata": {},
   "outputs": [
    {
     "data": {
      "text/html": [
       "<div>\n",
       "<style scoped>\n",
       "    .dataframe tbody tr th:only-of-type {\n",
       "        vertical-align: middle;\n",
       "    }\n",
       "\n",
       "    .dataframe tbody tr th {\n",
       "        vertical-align: top;\n",
       "    }\n",
       "\n",
       "    .dataframe thead th {\n",
       "        text-align: right;\n",
       "    }\n",
       "</style>\n",
       "<table border=\"1\" class=\"dataframe\">\n",
       "  <thead>\n",
       "    <tr style=\"text-align: right;\">\n",
       "      <th></th>\n",
       "      <th>Time</th>\n",
       "      <th>V1</th>\n",
       "      <th>V2</th>\n",
       "      <th>V3</th>\n",
       "      <th>V4</th>\n",
       "      <th>V5</th>\n",
       "      <th>V6</th>\n",
       "      <th>V7</th>\n",
       "      <th>V8</th>\n",
       "      <th>V9</th>\n",
       "      <th>...</th>\n",
       "      <th>V21</th>\n",
       "      <th>V22</th>\n",
       "      <th>V23</th>\n",
       "      <th>V24</th>\n",
       "      <th>V25</th>\n",
       "      <th>V26</th>\n",
       "      <th>V27</th>\n",
       "      <th>V28</th>\n",
       "      <th>Amount</th>\n",
       "      <th>Class</th>\n",
       "    </tr>\n",
       "  </thead>\n",
       "  <tbody>\n",
       "    <tr>\n",
       "      <th>0</th>\n",
       "      <td>0</td>\n",
       "      <td>-1.359807</td>\n",
       "      <td>-0.072781</td>\n",
       "      <td>2.536347</td>\n",
       "      <td>1.378155</td>\n",
       "      <td>-0.338321</td>\n",
       "      <td>0.462388</td>\n",
       "      <td>0.239599</td>\n",
       "      <td>0.098698</td>\n",
       "      <td>0.363787</td>\n",
       "      <td>...</td>\n",
       "      <td>-0.018307</td>\n",
       "      <td>0.277838</td>\n",
       "      <td>-0.110474</td>\n",
       "      <td>0.066928</td>\n",
       "      <td>0.128539</td>\n",
       "      <td>-0.189115</td>\n",
       "      <td>0.133558</td>\n",
       "      <td>-0.021053</td>\n",
       "      <td>149.62</td>\n",
       "      <td>0</td>\n",
       "    </tr>\n",
       "    <tr>\n",
       "      <th>1</th>\n",
       "      <td>0</td>\n",
       "      <td>1.191857</td>\n",
       "      <td>0.266151</td>\n",
       "      <td>0.166480</td>\n",
       "      <td>0.448154</td>\n",
       "      <td>0.060018</td>\n",
       "      <td>-0.082361</td>\n",
       "      <td>-0.078803</td>\n",
       "      <td>0.085102</td>\n",
       "      <td>-0.255425</td>\n",
       "      <td>...</td>\n",
       "      <td>-0.225775</td>\n",
       "      <td>-0.638672</td>\n",
       "      <td>0.101288</td>\n",
       "      <td>-0.339846</td>\n",
       "      <td>0.167170</td>\n",
       "      <td>0.125895</td>\n",
       "      <td>-0.008983</td>\n",
       "      <td>0.014724</td>\n",
       "      <td>2.69</td>\n",
       "      <td>1</td>\n",
       "    </tr>\n",
       "    <tr>\n",
       "      <th>2</th>\n",
       "      <td>1</td>\n",
       "      <td>-1.358354</td>\n",
       "      <td>-1.340163</td>\n",
       "      <td>1.773209</td>\n",
       "      <td>0.379780</td>\n",
       "      <td>-0.503198</td>\n",
       "      <td>1.800499</td>\n",
       "      <td>0.791461</td>\n",
       "      <td>0.247676</td>\n",
       "      <td>-1.514654</td>\n",
       "      <td>...</td>\n",
       "      <td>0.247998</td>\n",
       "      <td>0.771679</td>\n",
       "      <td>0.909412</td>\n",
       "      <td>-0.689281</td>\n",
       "      <td>-0.327642</td>\n",
       "      <td>-0.139097</td>\n",
       "      <td>-0.055353</td>\n",
       "      <td>-0.059752</td>\n",
       "      <td>378.66</td>\n",
       "      <td>0</td>\n",
       "    </tr>\n",
       "    <tr>\n",
       "      <th>3</th>\n",
       "      <td>1</td>\n",
       "      <td>-0.966272</td>\n",
       "      <td>-0.185226</td>\n",
       "      <td>1.792993</td>\n",
       "      <td>-0.863291</td>\n",
       "      <td>-0.010309</td>\n",
       "      <td>1.247203</td>\n",
       "      <td>0.237609</td>\n",
       "      <td>0.377436</td>\n",
       "      <td>-1.387024</td>\n",
       "      <td>...</td>\n",
       "      <td>-0.108300</td>\n",
       "      <td>0.005274</td>\n",
       "      <td>-0.190321</td>\n",
       "      <td>-1.175575</td>\n",
       "      <td>0.647376</td>\n",
       "      <td>-0.221929</td>\n",
       "      <td>0.062723</td>\n",
       "      <td>0.061458</td>\n",
       "      <td>123.50</td>\n",
       "      <td>0</td>\n",
       "    </tr>\n",
       "    <tr>\n",
       "      <th>4</th>\n",
       "      <td>2</td>\n",
       "      <td>-1.158233</td>\n",
       "      <td>0.877737</td>\n",
       "      <td>1.548718</td>\n",
       "      <td>0.403034</td>\n",
       "      <td>-0.407193</td>\n",
       "      <td>0.095921</td>\n",
       "      <td>0.592941</td>\n",
       "      <td>-0.270533</td>\n",
       "      <td>0.817739</td>\n",
       "      <td>...</td>\n",
       "      <td>-0.009431</td>\n",
       "      <td>0.798278</td>\n",
       "      <td>-0.137458</td>\n",
       "      <td>0.141267</td>\n",
       "      <td>-0.206010</td>\n",
       "      <td>0.502292</td>\n",
       "      <td>0.219422</td>\n",
       "      <td>0.215153</td>\n",
       "      <td>69.99</td>\n",
       "      <td>0</td>\n",
       "    </tr>\n",
       "  </tbody>\n",
       "</table>\n",
       "<p>5 rows × 31 columns</p>\n",
       "</div>"
      ],
      "text/plain": [
       "   Time        V1        V2        V3        V4        V5        V6        V7  \\\n",
       "0     0 -1.359807 -0.072781  2.536347  1.378155 -0.338321  0.462388  0.239599   \n",
       "1     0  1.191857  0.266151  0.166480  0.448154  0.060018 -0.082361 -0.078803   \n",
       "2     1 -1.358354 -1.340163  1.773209  0.379780 -0.503198  1.800499  0.791461   \n",
       "3     1 -0.966272 -0.185226  1.792993 -0.863291 -0.010309  1.247203  0.237609   \n",
       "4     2 -1.158233  0.877737  1.548718  0.403034 -0.407193  0.095921  0.592941   \n",
       "\n",
       "         V8        V9  ...       V21       V22       V23       V24       V25  \\\n",
       "0  0.098698  0.363787  ... -0.018307  0.277838 -0.110474  0.066928  0.128539   \n",
       "1  0.085102 -0.255425  ... -0.225775 -0.638672  0.101288 -0.339846  0.167170   \n",
       "2  0.247676 -1.514654  ...  0.247998  0.771679  0.909412 -0.689281 -0.327642   \n",
       "3  0.377436 -1.387024  ... -0.108300  0.005274 -0.190321 -1.175575  0.647376   \n",
       "4 -0.270533  0.817739  ... -0.009431  0.798278 -0.137458  0.141267 -0.206010   \n",
       "\n",
       "        V26       V27       V28  Amount  Class  \n",
       "0 -0.189115  0.133558 -0.021053  149.62      0  \n",
       "1  0.125895 -0.008983  0.014724    2.69      1  \n",
       "2 -0.139097 -0.055353 -0.059752  378.66      0  \n",
       "3 -0.221929  0.062723  0.061458  123.50      0  \n",
       "4  0.502292  0.219422  0.215153   69.99      0  \n",
       "\n",
       "[5 rows x 31 columns]"
      ]
     },
     "execution_count": 101,
     "metadata": {},
     "output_type": "execute_result"
    }
   ],
   "source": [
    "data.head()"
   ]
  },
  {
   "cell_type": "code",
   "execution_count": 102,
   "id": "84878ee8-ef7f-4649-b171-071f5914ca61",
   "metadata": {},
   "outputs": [],
   "source": [
    "df=pd.DataFrame(data)"
   ]
  },
  {
   "cell_type": "markdown",
   "id": "9f1e9cba-44b0-40f6-9ef7-5b432590bddf",
   "metadata": {},
   "source": [
    "## 2) Converting to Balanced-Class-Dataset"
   ]
  },
  {
   "cell_type": "code",
   "execution_count": 103,
   "id": "18ba0288-4830-434e-b356-ec3d5cd071cc",
   "metadata": {},
   "outputs": [],
   "source": [
    "import numpy as np\n",
    "import pandas as pd\n",
    "from imblearn.over_sampling import RandomOverSampler\n",
    "from imblearn.under_sampling import RandomUnderSampler\n",
    "from sklearn.model_selection import train_test_split\n",
    "from sklearn.metrics import classification_report, confusion_matrix\n",
    "\n",
    "X = df.drop('Class', axis=1)\n",
    "y = df['Class']\n",
    "\n",
    "X_train, X_test, y_train, y_test = train_test_split(X, y, test_size=0.2, random_state=42)\n",
    "\n",
    "over_sampler = RandomOverSampler(sampling_strategy='minority', random_state=42)\n",
    "under_sampler = RandomUnderSampler(sampling_strategy='majority', random_state=42)\n",
    "\n",
    "X_train_resampled, y_train_resampled = over_sampler.fit_resample(X_train, y_train)\n",
    "X_train_resampled, y_train_resampled = under_sampler.fit_resample(X_train_resampled, y_train_resampled)"
   ]
  },
  {
   "cell_type": "markdown",
   "id": "e9b958cc-611a-48c1-a28c-3a637da69b9e",
   "metadata": {},
   "source": [
    "## 3) Import the Necessary Dependencies ##"
   ]
  },
  {
   "cell_type": "code",
   "execution_count": 104,
   "id": "ea607c39-debe-4d79-b86e-c9f0dc17ba40",
   "metadata": {},
   "outputs": [],
   "source": [
    "import numpy as np\n",
    "import pandas as pd\n",
    "from imblearn.over_sampling import RandomOverSampler, SMOTE, ADASYN\n",
    "from imblearn.under_sampling import RandomUnderSampler, NearMiss\n",
    "from sklearn.model_selection import train_test_split\n",
    "from sklearn.ensemble import RandomForestClassifier\n",
    "from sklearn.linear_model import LogisticRegression\n",
    "from sklearn.naive_bayes import GaussianNB\n",
    "from sklearn.neighbors import KNeighborsClassifier\n",
    "from sklearn.tree import DecisionTreeClassifier\n",
    "from sklearn.svm import SVC\n",
    "from sklearn.metrics import accuracy_score"
   ]
  },
  {
   "cell_type": "markdown",
   "id": "1243750a-08c5-4748-a131-709005ec2065",
   "metadata": {},
   "source": [
    "## 4) Apply Train-Test Split"
   ]
  },
  {
   "cell_type": "code",
   "execution_count": 105,
   "id": "f1abc1be-9883-4e9f-ae76-9ab1164539fc",
   "metadata": {},
   "outputs": [],
   "source": [
    "X = df.drop('Class', axis=1)\n",
    "y = df['Class']\n",
    "X_train, X_test, y_train, y_test = train_test_split(X, y, test_size=0.2, random_state=42)"
   ]
  },
  {
   "cell_type": "markdown",
   "id": "34d2bcbc-871c-4b79-85bf-ab637b2bf5a6",
   "metadata": {},
   "source": [
    "## 5) Define Machine Learning Models & Sampling Techniques"
   ]
  },
  {
   "cell_type": "code",
   "execution_count": 106,
   "id": "8f52296d-dea3-467e-9545-9685ea4ea232",
   "metadata": {},
   "outputs": [],
   "source": [
    "models = {\n",
    "    'Random Forest': RandomForestClassifier(random_state=42),\n",
    "    'Logistic Regression': LogisticRegression(random_state=42),\n",
    "    'Naive Bayes': GaussianNB(),\n",
    "    'K-Nearest Neighbors': KNeighborsClassifier(),\n",
    "    'Decision Tree': DecisionTreeClassifier(random_state=42),\n",
    "}\n",
    "sampling_techniques = {\n",
    "    'Random Over Sampling': RandomOverSampler(sampling_strategy='minority', random_state=42),\n",
    "    'Random Under Sampling': RandomUnderSampler(sampling_strategy='majority', random_state=42),\n",
    "    'SMOTE Sampling': SMOTE(sampling_strategy='minority', random_state=42),\n",
    "    'ADASYN Sampling': ADASYN(sampling_strategy='minority', random_state=42),\n",
    "    'NearMiss Sampling': NearMiss(sampling_strategy='majority', version=1),\n",
    "}"
   ]
  },
  {
   "cell_type": "markdown",
   "id": "3c7391cc-0709-4070-be28-a1086f6e747a",
   "metadata": {},
   "source": [
    "## 6) Apply Sampling Techniques & Models"
   ]
  },
  {
   "cell_type": "code",
   "execution_count": 107,
   "id": "9c41fcf3-78a0-48ad-b3df-6fb72af8129c",
   "metadata": {},
   "outputs": [
    {
     "name": "stdout",
     "output_type": "stream",
     "text": [
      "\n",
      "Sampling Technique: Random Over Sampling\n"
     ]
    },
    {
     "name": "stderr",
     "output_type": "stream",
     "text": [
      "/Users/krishuppal/anaconda3/lib/python3.11/site-packages/sklearn/linear_model/_logistic.py:458: ConvergenceWarning: lbfgs failed to converge (status=1):\n",
      "STOP: TOTAL NO. of ITERATIONS REACHED LIMIT.\n",
      "\n",
      "Increase the number of iterations (max_iter) or scale the data as shown in:\n",
      "    https://scikit-learn.org/stable/modules/preprocessing.html\n",
      "Please also refer to the documentation for alternative solver options:\n",
      "    https://scikit-learn.org/stable/modules/linear_model.html#logistic-regression\n",
      "  n_iter_i = _check_optimize_result(\n",
      "/Users/krishuppal/anaconda3/lib/python3.11/site-packages/sklearn/linear_model/_logistic.py:458: ConvergenceWarning: lbfgs failed to converge (status=1):\n",
      "STOP: TOTAL NO. of ITERATIONS REACHED LIMIT.\n",
      "\n",
      "Increase the number of iterations (max_iter) or scale the data as shown in:\n",
      "    https://scikit-learn.org/stable/modules/preprocessing.html\n",
      "Please also refer to the documentation for alternative solver options:\n",
      "    https://scikit-learn.org/stable/modules/linear_model.html#logistic-regression\n",
      "  n_iter_i = _check_optimize_result(\n"
     ]
    },
    {
     "name": "stdout",
     "output_type": "stream",
     "text": [
      "\n",
      "Sampling Technique: Random Under Sampling\n",
      "\n",
      "Sampling Technique: SMOTE Sampling\n"
     ]
    },
    {
     "name": "stderr",
     "output_type": "stream",
     "text": [
      "/Users/krishuppal/anaconda3/lib/python3.11/site-packages/sklearn/linear_model/_logistic.py:458: ConvergenceWarning: lbfgs failed to converge (status=1):\n",
      "STOP: TOTAL NO. of ITERATIONS REACHED LIMIT.\n",
      "\n",
      "Increase the number of iterations (max_iter) or scale the data as shown in:\n",
      "    https://scikit-learn.org/stable/modules/preprocessing.html\n",
      "Please also refer to the documentation for alternative solver options:\n",
      "    https://scikit-learn.org/stable/modules/linear_model.html#logistic-regression\n",
      "  n_iter_i = _check_optimize_result(\n"
     ]
    },
    {
     "name": "stdout",
     "output_type": "stream",
     "text": [
      "\n",
      "Sampling Technique: ADASYN Sampling\n"
     ]
    },
    {
     "name": "stderr",
     "output_type": "stream",
     "text": [
      "/Users/krishuppal/anaconda3/lib/python3.11/site-packages/sklearn/linear_model/_logistic.py:458: ConvergenceWarning: lbfgs failed to converge (status=1):\n",
      "STOP: TOTAL NO. of ITERATIONS REACHED LIMIT.\n",
      "\n",
      "Increase the number of iterations (max_iter) or scale the data as shown in:\n",
      "    https://scikit-learn.org/stable/modules/preprocessing.html\n",
      "Please also refer to the documentation for alternative solver options:\n",
      "    https://scikit-learn.org/stable/modules/linear_model.html#logistic-regression\n",
      "  n_iter_i = _check_optimize_result(\n"
     ]
    },
    {
     "name": "stdout",
     "output_type": "stream",
     "text": [
      "\n",
      "Sampling Technique: NearMiss Sampling\n"
     ]
    },
    {
     "name": "stderr",
     "output_type": "stream",
     "text": [
      "/Users/krishuppal/anaconda3/lib/python3.11/site-packages/sklearn/linear_model/_logistic.py:458: ConvergenceWarning: lbfgs failed to converge (status=1):\n",
      "STOP: TOTAL NO. of ITERATIONS REACHED LIMIT.\n",
      "\n",
      "Increase the number of iterations (max_iter) or scale the data as shown in:\n",
      "    https://scikit-learn.org/stable/modules/preprocessing.html\n",
      "Please also refer to the documentation for alternative solver options:\n",
      "    https://scikit-learn.org/stable/modules/linear_model.html#logistic-regression\n",
      "  n_iter_i = _check_optimize_result(\n"
     ]
    }
   ],
   "source": [
    "accuracy_results = []\n",
    "for technique_name, sampler in sampling_techniques.items():\n",
    "    print(f\"\\nSampling Technique: {technique_name}\")\n",
    "    if sampler is not None:\n",
    "        X_resampled, y_resampled = sampler.fit_resample(X_train, y_train)\n",
    "    for model_name, model in models.items():\n",
    "        model.fit(X_resampled, y_resampled)\n",
    "        y_pred = model.predict(X_test)\n",
    "        accuracy = accuracy_score(y_test, y_pred)\n",
    "        accuracy_results.append({'Sampling Technique': technique_name, 'Model': model_name, 'Accuracy': accuracy})\n",
    "accuracy_df = pd.DataFrame(accuracy_results)"
   ]
  },
  {
   "cell_type": "markdown",
   "id": "c2c768fe-3091-4788-ae38-c6ddb7930aef",
   "metadata": {},
   "source": [
    "## 7) Calculate Accuracy ##"
   ]
  },
  {
   "cell_type": "code",
   "execution_count": 108,
   "id": "b38478ed-54e9-4820-b217-dec7fa6d5bf1",
   "metadata": {},
   "outputs": [
    {
     "name": "stdout",
     "output_type": "stream",
     "text": [
      "       Sampling Technique                Model  Accuracy\n",
      "0    Random Over Sampling        Random Forest  0.993548\n",
      "1    Random Over Sampling  Logistic Regression  0.877419\n",
      "2    Random Over Sampling          Naive Bayes  0.935484\n",
      "3    Random Over Sampling  K-Nearest Neighbors  0.980645\n",
      "4    Random Over Sampling        Decision Tree  0.987097\n",
      "5   Random Under Sampling        Random Forest  0.709677\n",
      "6   Random Under Sampling  Logistic Regression  0.593548\n",
      "7   Random Under Sampling          Naive Bayes  0.696774\n",
      "8   Random Under Sampling  K-Nearest Neighbors  0.670968\n",
      "9   Random Under Sampling        Decision Tree  0.574194\n",
      "10         SMOTE Sampling        Random Forest  0.993548\n",
      "11         SMOTE Sampling  Logistic Regression  0.877419\n",
      "12         SMOTE Sampling          Naive Bayes  0.858065\n",
      "13         SMOTE Sampling  K-Nearest Neighbors  0.754839\n",
      "14         SMOTE Sampling        Decision Tree  0.941935\n",
      "15        ADASYN Sampling        Random Forest  0.993548\n",
      "16        ADASYN Sampling  Logistic Regression  0.864516\n",
      "17        ADASYN Sampling          Naive Bayes  0.864516\n",
      "18        ADASYN Sampling  K-Nearest Neighbors  0.748387\n",
      "19        ADASYN Sampling        Decision Tree  0.954839\n",
      "20      NearMiss Sampling        Random Forest  0.393548\n",
      "21      NearMiss Sampling  Logistic Regression  0.412903\n",
      "22      NearMiss Sampling          Naive Bayes  0.025806\n",
      "23      NearMiss Sampling  K-Nearest Neighbors  0.212903\n",
      "24      NearMiss Sampling        Decision Tree  0.077419\n"
     ]
    }
   ],
   "source": [
    "accuracy_df = pd.DataFrame(accuracy_results)\n",
    "print(accuracy_df)"
   ]
  },
  {
   "cell_type": "code",
   "execution_count": 109,
   "id": "44eb67ec-3fd0-43a9-a201-d29228188e94",
   "metadata": {},
   "outputs": [
    {
     "data": {
      "text/html": [
       "<div>\n",
       "<style scoped>\n",
       "    .dataframe tbody tr th:only-of-type {\n",
       "        vertical-align: middle;\n",
       "    }\n",
       "\n",
       "    .dataframe tbody tr th {\n",
       "        vertical-align: top;\n",
       "    }\n",
       "\n",
       "    .dataframe thead th {\n",
       "        text-align: right;\n",
       "    }\n",
       "</style>\n",
       "<table border=\"1\" class=\"dataframe\">\n",
       "  <thead>\n",
       "    <tr style=\"text-align: right;\">\n",
       "      <th>Sampling Technique</th>\n",
       "      <th>ADASYN Sampling</th>\n",
       "      <th>NearMiss Sampling</th>\n",
       "      <th>Random Over Sampling</th>\n",
       "      <th>Random Under Sampling</th>\n",
       "      <th>SMOTE Sampling</th>\n",
       "    </tr>\n",
       "    <tr>\n",
       "      <th>Model</th>\n",
       "      <th></th>\n",
       "      <th></th>\n",
       "      <th></th>\n",
       "      <th></th>\n",
       "      <th></th>\n",
       "    </tr>\n",
       "  </thead>\n",
       "  <tbody>\n",
       "    <tr>\n",
       "      <th>Decision Tree</th>\n",
       "      <td>0.954839</td>\n",
       "      <td>0.077419</td>\n",
       "      <td>0.987097</td>\n",
       "      <td>0.574194</td>\n",
       "      <td>0.941935</td>\n",
       "    </tr>\n",
       "    <tr>\n",
       "      <th>K-Nearest Neighbors</th>\n",
       "      <td>0.748387</td>\n",
       "      <td>0.212903</td>\n",
       "      <td>0.980645</td>\n",
       "      <td>0.670968</td>\n",
       "      <td>0.754839</td>\n",
       "    </tr>\n",
       "    <tr>\n",
       "      <th>Logistic Regression</th>\n",
       "      <td>0.864516</td>\n",
       "      <td>0.412903</td>\n",
       "      <td>0.877419</td>\n",
       "      <td>0.593548</td>\n",
       "      <td>0.877419</td>\n",
       "    </tr>\n",
       "    <tr>\n",
       "      <th>Naive Bayes</th>\n",
       "      <td>0.864516</td>\n",
       "      <td>0.025806</td>\n",
       "      <td>0.935484</td>\n",
       "      <td>0.696774</td>\n",
       "      <td>0.858065</td>\n",
       "    </tr>\n",
       "    <tr>\n",
       "      <th>Random Forest</th>\n",
       "      <td>0.993548</td>\n",
       "      <td>0.393548</td>\n",
       "      <td>0.993548</td>\n",
       "      <td>0.709677</td>\n",
       "      <td>0.993548</td>\n",
       "    </tr>\n",
       "  </tbody>\n",
       "</table>\n",
       "</div>"
      ],
      "text/plain": [
       "Sampling Technique   ADASYN Sampling  NearMiss Sampling  Random Over Sampling  \\\n",
       "Model                                                                           \n",
       "Decision Tree               0.954839           0.077419              0.987097   \n",
       "K-Nearest Neighbors         0.748387           0.212903              0.980645   \n",
       "Logistic Regression         0.864516           0.412903              0.877419   \n",
       "Naive Bayes                 0.864516           0.025806              0.935484   \n",
       "Random Forest               0.993548           0.393548              0.993548   \n",
       "\n",
       "Sampling Technique   Random Under Sampling  SMOTE Sampling  \n",
       "Model                                                       \n",
       "Decision Tree                     0.574194        0.941935  \n",
       "K-Nearest Neighbors               0.670968        0.754839  \n",
       "Logistic Regression               0.593548        0.877419  \n",
       "Naive Bayes                       0.696774        0.858065  \n",
       "Random Forest                     0.709677        0.993548  "
      ]
     },
     "metadata": {},
     "output_type": "display_data"
    }
   ],
   "source": [
    "from IPython.display import display\n",
    "pivot_df = accuracy_df.pivot(index='Model', columns='Sampling Technique', values='Accuracy')\n",
    "display(pivot_df)"
   ]
  },
  {
   "cell_type": "markdown",
   "id": "172eaae8-4ebc-4d66-8c88-fc5442108af5",
   "metadata": {},
   "source": [
    "## 8) Find best Sampling Technique for each Model"
   ]
  },
  {
   "cell_type": "code",
   "execution_count": 111,
   "id": "221b58da-4614-4628-9dc9-8517b54388ff",
   "metadata": {},
   "outputs": [
    {
     "name": "stdout",
     "output_type": "stream",
     "text": [
      "     Sampling Technique                Model  Accuracy\n",
      "4  Random Over Sampling        Decision Tree  0.987097\n",
      "3  Random Over Sampling  K-Nearest Neighbors  0.980645\n",
      "1  Random Over Sampling  Logistic Regression  0.877419\n",
      "2  Random Over Sampling          Naive Bayes  0.935484\n",
      "0  Random Over Sampling        Random Forest  0.993548\n"
     ]
    }
   ],
   "source": [
    "best_sampling_techniques = accuracy_df.groupby('Model')['Accuracy'].idxmax()\n",
    "best_accuracy_df = accuracy_df.loc[best_sampling_techniques]\n",
    "print(best_accuracy_df)"
   ]
  },
  {
   "cell_type": "code",
   "execution_count": 113,
   "id": "a74fb830-2a5e-407a-b460-1a8c392c30e3",
   "metadata": {},
   "outputs": [],
   "source": [
    "best_accuracy_df.to_csv(\"/Users/krishuppal/Desktop/sampling-102103058.csv\", index=True)"
   ]
  }
 ],
 "metadata": {
  "kernelspec": {
   "display_name": "Python 3 (ipykernel)",
   "language": "python",
   "name": "python3"
  },
  "language_info": {
   "codemirror_mode": {
    "name": "ipython",
    "version": 3
   },
   "file_extension": ".py",
   "mimetype": "text/x-python",
   "name": "python",
   "nbconvert_exporter": "python",
   "pygments_lexer": "ipython3",
   "version": "3.11.5"
  }
 },
 "nbformat": 4,
 "nbformat_minor": 5
}
